{
 "cells": [
  {
   "cell_type": "code",
   "execution_count": 48,
   "id": "7f35da8b-664d-44a1-95ff-d23665e36d82",
   "metadata": {},
   "outputs": [],
   "source": [
    "from ase.build import bulk, surface\n",
    "from ase.io import write, read\n",
    "from ase.visualize import view\n"
   ]
  },
  {
   "cell_type": "markdown",
   "id": "c76e8dd2-57ce-4960-9edd-ee16abfd5047",
   "metadata": {},
   "source": [
    "----------------------------------------------------------------------------------------------------------------------------------\n",
    "Generate a bulk material of a specific metal, crystal structure, lattice parameter, and size. Save it, then view it.\n",
    "Once it is open, let's go over some of the gui functions. \n",
    "1. Go over how to view from different sides and how to focus\n",
    "2. Try modifying an atom\n",
    "3. Try repeating the unit cell\n",
    "4. Discuss constraints\n",
    "5. Save as a new bulk structure"
   ]
  },
  {
   "cell_type": "code",
   "execution_count": null,
   "id": "f4dce26f-a01c-4b34-bebe-945c70f88bf3",
   "metadata": {},
   "outputs": [],
   "source": []
  },
  {
   "cell_type": "markdown",
   "id": "c8d5e302-bfcd-4552-bb82-c9a18c365335",
   "metadata": {},
   "source": [
    "Get some of the properties of the bulks we have saved. See the difference between the initial bulk we made and the modified one"
   ]
  },
  {
   "cell_type": "code",
   "execution_count": null,
   "id": "4832b81f-6182-4879-b564-8bed37f6850f",
   "metadata": {},
   "outputs": [],
   "source": []
  },
  {
   "cell_type": "markdown",
   "id": "38e75822-0332-45a3-9e89-10b3e12ccb1b",
   "metadata": {},
   "source": [
    "----------------------------------------------------------------------------------------------------------------------------------\n",
    "Now we are going to cut the bulk we just generated into a surface facet. View it and then Save it."
   ]
  },
  {
   "cell_type": "code",
   "execution_count": null,
   "id": "97ebd842-07dd-4fa7-8c86-3ac438a535e2",
   "metadata": {},
   "outputs": [],
   "source": []
  },
  {
   "cell_type": "code",
   "execution_count": null,
   "id": "ced2bcd8-3f76-4852-92b9-bc3c9198ac76",
   "metadata": {},
   "outputs": [],
   "source": []
  },
  {
   "cell_type": "markdown",
   "id": "61eb3c7d-55a4-4632-a717-807316f59a4d",
   "metadata": {},
   "source": [
    "----------------------------------------------------------------------------------------------------------------------------------\n",
    "Now try to adsorb an oxygen atom on the surface by opening the gui and adding an atom. Then save as a new surface"
   ]
  },
  {
   "cell_type": "code",
   "execution_count": null,
   "id": "8308ca3f-6af1-4232-8fa8-632a9f362252",
   "metadata": {},
   "outputs": [],
   "source": []
  },
  {
   "cell_type": "code",
   "execution_count": null,
   "id": "67b82b04-a3cb-48aa-9113-f7feba3ff19e",
   "metadata": {},
   "outputs": [],
   "source": []
  },
  {
   "cell_type": "code",
   "execution_count": null,
   "id": "ded1b447-3ff5-4370-be95-a67c3644a5fd",
   "metadata": {},
   "outputs": [],
   "source": []
  },
  {
   "cell_type": "code",
   "execution_count": null,
   "id": "5f2f520b-8b2a-49f6-9444-b8ec5afc6b22",
   "metadata": {},
   "outputs": [],
   "source": []
  },
  {
   "cell_type": "markdown",
   "id": "c948dc7d-7674-4da0-99f5-05f0ebd234d3",
   "metadata": {},
   "source": [
    "----------------------------------------------------------------------------------------------------------------------------------\n",
    "Try initializing the adsorbate into a new location (further or closer to the surface). Try other adsorbates or more adsorabates. Try building other surfaces."
   ]
  },
  {
   "cell_type": "code",
   "execution_count": null,
   "id": "5b2ee64b-0365-454c-93dc-fa5005007270",
   "metadata": {},
   "outputs": [],
   "source": []
  }
 ],
 "metadata": {
  "kernelspec": {
   "display_name": "Python 3 (ipykernel)",
   "language": "python",
   "name": "python3"
  },
  "language_info": {
   "codemirror_mode": {
    "name": "ipython",
    "version": 3
   },
   "file_extension": ".py",
   "mimetype": "text/x-python",
   "name": "python",
   "nbconvert_exporter": "python",
   "pygments_lexer": "ipython3",
   "version": "3.11.5"
  }
 },
 "nbformat": 4,
 "nbformat_minor": 5
}
